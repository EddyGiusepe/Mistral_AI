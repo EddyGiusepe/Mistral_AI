{
 "cells": [
  {
   "cell_type": "markdown",
   "id": "e434db5a",
   "metadata": {},
   "source": [
    "# <h1 align=\"center\"><font color=\"gree\">Mistral AI Agents API Tutorial</font></h1>"
   ]
  },
  {
   "cell_type": "markdown",
   "id": "5db75300",
   "metadata": {},
   "source": [
    "<font color=\"pink\">Senior Data Scientist.: Dr. Eddy Giusepe Chirinos Isidro</font>"
   ]
  },
  {
   "cell_type": "markdown",
   "id": "264eb466",
   "metadata": {},
   "source": [
    "Links de estudo:\n",
    "\n",
    "* [Obtenha a sua chave de API do Mistral AI](https://console.mistral.ai/api-keys)\n",
    "\n",
    "* [DataCamp - Mistral AI](https://www.youtube.com/watch?v=VkqYmwIIeOg)\n",
    "\n",
    "* [Mistral AI Cookbook](https://github.com/mistralai/cookbook/tree/main)"
   ]
  },
  {
   "cell_type": "code",
   "execution_count": 3,
   "id": "d504c1a1",
   "metadata": {},
   "outputs": [],
   "source": [
    "from mistralai import Mistral\n",
    "from config.settings import MISTRALAI_API_KEY\n",
    "\n",
    "client = Mistral(api_key=MISTRALAI_API_KEY)\n",
    "\n",
    "ml_agent = client.beta.agents.create(\n",
    "    model=\"mistral-medium-2505\",\n",
    "    name=\"ml-agent\",\n",
    "    description=\"Asistente de Machine learning\",\n",
    "    instructions=\"Você é um especialista em Machine learning. Dá conselhos práticos e ações.\",\n",
    ")\n",
    "\n"
   ]
  },
  {
   "cell_type": "code",
   "execution_count": 6,
   "id": "6370ff41",
   "metadata": {},
   "outputs": [
    {
     "name": "stdout",
     "output_type": "stream",
     "text": [
      "Agent created: ag_0197f50e699e73fcb8ba6f1ae3eb8002\n"
     ]
    }
   ],
   "source": [
    "print(f\"Agent created: {ml_agent.id}\")"
   ]
  },
  {
   "cell_type": "code",
   "execution_count": 7,
   "id": "93974a0a",
   "metadata": {},
   "outputs": [],
   "source": [
    "response = client.beta.conversations.start(\n",
    "    agent_id=ml_agent.id,\n",
    "    inputs=\"Devo usar Random Forest ou XGBoost para um dataset de 5000 amostras? Responda em uma sentença apenas.\",\n",
    ")\n"
   ]
  },
  {
   "cell_type": "code",
   "execution_count": 8,
   "id": "f8d8ffb3",
   "metadata": {},
   "outputs": [
    {
     "data": {
      "text/plain": [
       "mistralai.models.conversationresponse.ConversationResponse"
      ]
     },
     "execution_count": 8,
     "metadata": {},
     "output_type": "execute_result"
    }
   ],
   "source": [
    "type(response)"
   ]
  },
  {
   "cell_type": "code",
   "execution_count": 9,
   "id": "f73b105e",
   "metadata": {},
   "outputs": [
    {
     "data": {
      "text/plain": [
       "[MessageOutputEntry(content='Para um dataset de 5000 amostras, XGBoost geralmente oferece melhor desempenho e eficiência.', object='entry', type='message.output', created_at=datetime.datetime(2025, 7, 10, 16, 3, 36, 101011, tzinfo=TzInfo(UTC)), completed_at=datetime.datetime(2025, 7, 10, 16, 3, 36, 406929, tzinfo=TzInfo(UTC)), id='msg_0197f513f82476df8bd7cb082bce3698', agent_id='ag_0197f50e699e73fcb8ba6f1ae3eb8002', model='mistral-medium-2505', role='assistant')]"
      ]
     },
     "execution_count": 9,
     "metadata": {},
     "output_type": "execute_result"
    }
   ],
   "source": [
    "response.outputs"
   ]
  },
  {
   "cell_type": "code",
   "execution_count": 10,
   "id": "39607d91",
   "metadata": {},
   "outputs": [
    {
     "name": "stdout",
     "output_type": "stream",
     "text": [
      "Para um dataset de 5000 amostras, XGBoost geralmente oferece melhor desempenho e eficiência.\n"
     ]
    }
   ],
   "source": [
    "print(response.outputs[0].content)"
   ]
  },
  {
   "cell_type": "code",
   "execution_count": null,
   "id": "2d10c523",
   "metadata": {},
   "outputs": [],
   "source": []
  }
 ],
 "metadata": {
  "kernelspec": {
   "display_name": ".venv",
   "language": "python",
   "name": "python3"
  },
  "language_info": {
   "codemirror_mode": {
    "name": "ipython",
    "version": 3
   },
   "file_extension": ".py",
   "mimetype": "text/x-python",
   "name": "python",
   "nbconvert_exporter": "python",
   "pygments_lexer": "ipython3",
   "version": "3.13.2"
  }
 },
 "nbformat": 4,
 "nbformat_minor": 5
}
