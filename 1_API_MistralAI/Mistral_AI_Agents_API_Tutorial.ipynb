{
 "cells": [
  {
   "cell_type": "markdown",
   "id": "e434db5a",
   "metadata": {},
   "source": [
    "# <h1 align=\"center\"><font color=\"gree\">Mistral AI Agents API Tutorial</font></h1>"
   ]
  },
  {
   "cell_type": "markdown",
   "id": "5db75300",
   "metadata": {},
   "source": [
    "<font color=\"pink\">Senior Data Scientist.: Dr. Eddy Giusepe Chirinos Isidro</font>"
   ]
  },
  {
   "cell_type": "markdown",
   "id": "264eb466",
   "metadata": {},
   "source": [
    "Links de estudo:\n",
    "\n",
    "* [Obtenha a sua chave de API do Mistral AI](https://console.mistral.ai/api-keys)\n",
    "\n",
    "* [DataCamp - Mistral AI](https://www.youtube.com/watch?v=VkqYmwIIeOg)\n",
    "\n",
    "* [Mistral AI Cookbook](https://github.com/mistralai/cookbook/tree/main)"
   ]
  },
  {
   "cell_type": "markdown",
   "id": "b6a51095",
   "metadata": {},
   "source": [
    "## <font color=\"red\">Começando</font>"
   ]
  },
  {
   "cell_type": "code",
   "execution_count": 1,
   "id": "d504c1a1",
   "metadata": {},
   "outputs": [],
   "source": [
    "from mistralai import Mistral\n",
    "import os\n",
    "\n",
    "# Alternativamente, você pode usar variáveis de ambiente\n",
    "MISTRALAI_API_KEY = os.environ.get(\"MISTRALAI_API_KEY\") \n",
    "\n",
    "client = Mistral(api_key=MISTRALAI_API_KEY)\n",
    "\n",
    "ml_agent = client.beta.agents.create(\n",
    "    model=\"mistral-medium-2505\",\n",
    "    name=\"ml-agent\",\n",
    "    description=\"Asistente de Machine learning\",\n",
    "    instructions=\"Você é um especialista em Machine learning. Dá conselhos práticos e ações.\",\n",
    ")\n"
   ]
  },
  {
   "cell_type": "code",
   "execution_count": 5,
   "id": "6370ff41",
   "metadata": {},
   "outputs": [
    {
     "name": "stdout",
     "output_type": "stream",
     "text": [
      "Agent created: ag_019818e32a1c73d88638d1a73a709ff8\n",
      "\n",
      "\n",
      "Agent name: ml-agent\n",
      "\n",
      "\n",
      "Agent description: Asistente de Machine learning\n",
      "\n",
      "\n",
      "Agent instructions: Você é um especialista em Machine learning. Dá conselhos práticos e ações.\n",
      "\n",
      "\n",
      "Agent model: mistral-medium-2505\n"
     ]
    }
   ],
   "source": [
    "print(f\"Agent created: {ml_agent.id}\")\n",
    "print(\"\\n\")\n",
    "print(f\"Agent name: {ml_agent.name}\")\n",
    "print(\"\\n\")\n",
    "print(f\"Agent description: {ml_agent.description}\")\n",
    "print(\"\\n\")\n",
    "print(f\"Agent instructions: {ml_agent.instructions}\")\n",
    "print(\"\\n\")\n",
    "print(f\"Agent model: {ml_agent.model}\")\n"
   ]
  },
  {
   "cell_type": "markdown",
   "id": "ba63d9c2",
   "metadata": {},
   "source": [
    "* ``mistral-medium`` é um modelo pago com um equilíbrio entre desempenho e custo\n",
    "* ``name`` deve ser único para manter conversas separadas\n",
    "* ``instructions`` é o prompt do sistema que guia o comportamento do agente"
   ]
  },
  {
   "cell_type": "markdown",
   "id": "e8be5e4f",
   "metadata": {},
   "source": [
    "Os Agents API usam IDs de agentes para diferenciar um agente de outro\n",
    "\n",
    "\n",
    "<font color=\"gree\">Iniciando uma conversa</font>\n",
    "\n",
    "* Para começar a fazer perguntas, use o comando ``start``\n",
    "* Deve passar o ``ID`` de agente\n"
   ]
  },
  {
   "cell_type": "code",
   "execution_count": 6,
   "id": "93974a0a",
   "metadata": {},
   "outputs": [],
   "source": [
    "response = client.beta.conversations.start(\n",
    "    agent_id=ml_agent.id,\n",
    "    inputs=\"\"\"Devo usar Random Forest ou XGBoost para um dataset de \n",
    "              5000 amostras? Responda em uma sentença apenas.\"\"\",\n",
    ")"
   ]
  },
  {
   "cell_type": "code",
   "execution_count": 7,
   "id": "f8d8ffb3",
   "metadata": {},
   "outputs": [
    {
     "data": {
      "text/plain": [
       "mistralai.models.conversationresponse.ConversationResponse"
      ]
     },
     "execution_count": 7,
     "metadata": {},
     "output_type": "execute_result"
    }
   ],
   "source": [
    "type(response)"
   ]
  },
  {
   "cell_type": "code",
   "execution_count": null,
   "id": "f73b105e",
   "metadata": {},
   "outputs": [
    {
     "data": {
      "text/plain": [
       "[MessageOutputEntry(content='Para um dataset de 5000 amostras, XGBoost geralmente oferece melhor desempenho e eficiência.', object='entry', type='message.output', created_at=datetime.datetime(2025, 7, 17, 15, 6, 14, 383662, tzinfo=TzInfo(UTC)), completed_at=datetime.datetime(2025, 7, 17, 15, 6, 14, 708149, tzinfo=TzInfo(UTC)), id='msg_019818ebf7ef72b79a5092bf66a696eb', agent_id='ag_019818e32a1c73d88638d1a73a709ff8', model='mistral-medium-2505', role='assistant')]"
      ]
     },
     "execution_count": 10,
     "metadata": {},
     "output_type": "execute_result"
    }
   ],
   "source": [
    "response.outputs"
   ]
  },
  {
   "cell_type": "markdown",
   "id": "ab2ddeb2",
   "metadata": {},
   "source": [
    "* O array de saídas (``outputs``) conterá outros objetos de mensagem como chamadas de ferramentas."
   ]
  },
  {
   "cell_type": "code",
   "execution_count": 11,
   "id": "39607d91",
   "metadata": {},
   "outputs": [
    {
     "name": "stdout",
     "output_type": "stream",
     "text": [
      "Para um dataset de 5000 amostras, XGBoost geralmente oferece melhor desempenho e eficiência.\n"
     ]
    }
   ],
   "source": [
    "print(response.outputs[0].content)"
   ]
  },
  {
   "cell_type": "markdown",
   "id": "decac5d1",
   "metadata": {},
   "source": [
    "Isto é um workflow básico para criar agentes e iniciar conversas com eles.\n"
   ]
  },
  {
   "cell_type": "markdown",
   "id": "44ad74e4",
   "metadata": {},
   "source": [
    "## <font color=\"red\">Mergulho profundo na API de agentes Mistral</font>"
   ]
  },
  {
   "cell_type": "code",
   "execution_count": null,
   "id": "7247adda",
   "metadata": {},
   "outputs": [],
   "source": [
    "\n"
   ]
  },
  {
   "cell_type": "code",
   "execution_count": null,
   "id": "cb197031",
   "metadata": {},
   "outputs": [],
   "source": [
    "\n"
   ]
  },
  {
   "cell_type": "code",
   "execution_count": null,
   "id": "2d10c523",
   "metadata": {},
   "outputs": [],
   "source": []
  }
 ],
 "metadata": {
  "kernelspec": {
   "display_name": ".venv",
   "language": "python",
   "name": "python3"
  },
  "language_info": {
   "codemirror_mode": {
    "name": "ipython",
    "version": 3
   },
   "file_extension": ".py",
   "mimetype": "text/x-python",
   "name": "python",
   "nbconvert_exporter": "python",
   "pygments_lexer": "ipython3",
   "version": "3.13.2"
  }
 },
 "nbformat": 4,
 "nbformat_minor": 5
}
